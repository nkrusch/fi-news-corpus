{
 "cells": [
  {
   "cell_type": "markdown",
   "metadata": {},
   "source": [
    "# Basic Example"
   ]
  },
  {
   "cell_type": "markdown",
   "metadata": {},
   "source": [
    "This is a Python code example and it shows you how to:\n",
    "\n",
    "- read all article data\n",
    "- display some basic stats about the dataset\n",
    "- display individual article data"
   ]
  },
  {
   "cell_type": "markdown",
   "metadata": {},
   "source": [
    "## 1. Start by reading in the article data"
   ]
  },
  {
   "cell_type": "code",
   "execution_count": null,
   "metadata": {},
   "outputs": [],
   "source": [
    "from os import listdir\n",
    "from os.path import isfile, join\n",
    "import csv\n",
    "\n",
    "# Path to corpus directory\n",
    "# Change this value as necessary\n",
    "directory_path = '../corpus'\n",
    "\n",
    "# read all files\n",
    "all_files = [f for f in listdir(directory_path) if isfile(join(directory_path, f))]\n",
    "\n",
    "# create a list to hold data\n",
    "articles = []\n",
    "\n",
    "# iterate over each csv file\n",
    "for f in all_files:\n",
    "\n",
    "    rows = 0\n",
    "\n",
    "    # open the file for reading\n",
    "    with open(join(directory_path, f)) as csvfile:\n",
    "\n",
    "        # read file contents\n",
    "        readCSV = csv.reader(csvfile, delimiter=',')\n",
    "\n",
    "        for row in readCSV:\n",
    "\n",
    "            # skip header row\n",
    "            if rows > 0:\n",
    "                articles.append(row)\n",
    "\n",
    "            rows += 1\n"
   ]
  },
  {
   "cell_type": "markdown",
   "metadata": {},
   "source": [
    "## 2. After reading all the article data, show some basic information:"
   ]
  },
  {
   "cell_type": "code",
   "execution_count": null,
   "metadata": {},
   "outputs": [],
   "source": [
    "# print some stats\n",
    "print('num files: ' + str(len(all_files)))\n",
    "print('articles: ' + str(len(articles)))\n"
   ]
  },
  {
   "cell_type": "markdown",
   "metadata": {},
   "source": [
    "## 3. Display information about oldest and newest article"
   ]
  },
  {
   "cell_type": "code",
   "execution_count": null,
   "metadata": {},
   "outputs": [],
   "source": [
    "# sort articles by date\n",
    "# article publish date is first property - we can use default sort here\n",
    "articles.sort()\n",
    "\n",
    "# display information about the oldest article in the dataset\n",
    "print('=' * 40)\n",
    "print('Julkaistu: ' + articles[0][0])\n",
    "print('Otsikko: ' + articles[0][1])\n",
    "print('Kuvaus: ' + articles[0][2])\n",
    "print('Kuva: ' + articles[0][3])\n",
    "\n",
    "# display information about the newest article in the dataset\n",
    "print('=' * 40)\n",
    "print('Julkaistu: ' + articles[-1][0])\n",
    "print('Otsikko: ' + articles[-1][1])\n",
    "print('Kuvaus: ' + articles[-1][2])\n",
    "print('Kuva: ' + articles[-1][3])\n",
    "print('=' * 40)\n",
    "\n"
   ]
  },
  {
   "cell_type": "markdown",
   "metadata": {},
   "source": [
    "# [Next Lab &raquo;](word_frequency.ipynb)"
   ]
  }
 ],
 "metadata": {
  "kernelspec": {
   "display_name": "Python 3",
   "language": "python",
   "name": "python3"
  },
  "language_info": {
   "codemirror_mode": {
    "name": "ipython",
    "version": 3
   },
   "file_extension": ".py",
   "mimetype": "text/x-python",
   "name": "python",
   "nbconvert_exporter": "python",
   "pygments_lexer": "ipython3",
   "version": "3.7.3"
  }
 },
 "nbformat": 4,
 "nbformat_minor": 4
}
