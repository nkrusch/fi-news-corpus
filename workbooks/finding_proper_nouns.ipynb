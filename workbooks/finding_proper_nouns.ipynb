{
 "cells": [
  {
   "cell_type": "markdown",
   "metadata": {},
   "source": [
    "# Finding Mentions by Name"
   ]
  },
  {
   "cell_type": "markdown",
   "metadata": {},
   "source": [
    "In this lab we will try to identify frequencies of proper nouns in the news corpus. More specifically we are looking for names.\n",
    "\n",
    "You will learn how to:\n",
    "- work with corpus utility functions\n",
    "- how to do analysis based on word capitalization\n",
    "- how to work with regular expressions"
   ]
  },
  {
   "cell_type": "code",
   "execution_count": 1,
   "metadata": {},
   "outputs": [],
   "source": [
    "# import dependencies \n",
    "import re\n",
    "from corpus_utilities import load_articles"
   ]
  },
  {
   "cell_type": "markdown",
   "metadata": {},
   "source": [
    "## 1. Read article data from corpus"
   ]
  },
  {
   "cell_type": "code",
   "execution_count": 2,
   "metadata": {},
   "outputs": [
    {
     "name": "stdout",
     "output_type": "stream",
     "text": [
      "Sanity check! Got 67259 articles.\n"
     ]
    }
   ],
   "source": [
    "# path to corpus directory\n",
    "# change this value as necessary\n",
    "directory_path = '../corpus'\n",
    "\n",
    "# use utility script to load articles\n",
    "articles = load_articles(directory_path)\n",
    "\n",
    "print('Sanity check! Got', len(articles), 'articles.')  "
   ]
  },
  {
   "cell_type": "markdown",
   "metadata": {},
   "source": [
    "## 2. Naive search approach"
   ]
  },
  {
   "cell_type": "markdown",
   "metadata": {},
   "source": [
    "Let's use capitalization rules as a way to identify nouns. When a word occurs in the beginning of the sentence, it is impossible to tell whether capitalization is an indication of a word being a proper noun, or just the first word of a sentence, so we will accept those words as well. Therefore this is a very naive approach to finding propre nouns, but will get us started. "
   ]
  },
  {
   "cell_type": "code",
   "execution_count": 34,
   "metadata": {},
   "outputs": [
    {
     "name": "stdout",
     "output_type": "stream",
     "text": [
      "Found 73575 capitalized word seaquences.\n",
      "Found 31362 unique capitalized word seaquences. \n",
      "\n",
      "Sebastian Schauman                                 Martin Johnsrud Sundbyhyn                         \n",
      "Blade Runner                                       Lars Nelsonin                                     \n",
      "Elli Immon                                         Asettuminen Lappiin                               \n",
      "Stefan Kraft                                       Sanna Tilanto                                     \n",
      "Palaako Gareth Bale Valioliigaan                   Mark Schmidt                                      \n",
      "Heikki Korpela                                     Jonathan Kingin                                   \n",
      "Keimolan Nesteellä                                 Kun Satu Rusasen                                  \n",
      "Urmas Viilunkina                                   Aira Samulinin                                    \n",
      "Näyttelijä Malla Malmivaaran                       Mahailya Reeves                                   \n",
      "Hasher Jallal Taheb                                Urho Kekkosesta                                   \n",
      "Kurtis Kaser                                       Hanna Sumarilta                                   \n",
      "Antti Pelttari                                     Minna Haapkylästä                                 \n",
      "Konkaripakit Topi Jaakola                          Peter Kotilainen                                  \n",
      "Petteri Orpolta                                    Irina Shayk                                       \n",
      "Hirmukuntoinen Mike Tyson                          James Hunt                                        \n",
      "Pekka Hentun                                       Bose Sleepbuds                                    \n",
      "Tiistaina Liperin Viinijärvellä                    Columbuksen Sonny Milano                          \n",
      "Astronautti Christina Koch                         In Finland                                        \n",
      "Seksisymboli Jayne Mansfield                       Kaisaniemessä Paula Vesalan                       \n",
      "Jason Derulon                                      Räppäri Eminemin Hailey                           \n",
      "Iskelmätähti Frederik                              Arnold Schwarzeneggerille                         \n",
      "Espanjasta Moskovan                                Tim Sparv                                         \n",
      "Arttu Ruotsalainen                                 Aapo Halme                                        \n",
      "Darryl Pang                                        Katri Laakso                                      \n",
      "Suositusta The Affair                              Larry Baer                                        \n",
      "Erik Haulan                                        Matkanjärjestäjäkonserni Thomas Cook              \n",
      "Diamond Princess                                   Harjavallan Myllykadulla                          \n",
      "Petri Valtalan                                     Green Day                                         \n",
      "Lennot Gdanskiin                                   Massive Clout                                     \n",
      "Inspiroiduimme Alessandra Ambrosionin              Liisa Nousiaisesta                                \n",
      "Rolling Stonesien                                  Dome Karukoskella                                 \n",
      "Avaruusfyysikko Minna Palmrothin                   Elsa Marjanen                                     \n",
      "Crystal Palacelta                                  Murjaisiko Jäämies                                \n",
      "Christian Kabasele                                 Miles Brockman Richie                             \n",
      "Taru Sormusten Herrasta                            Grand Residence                                   \n",
      "Petteri Orpo                                       Valerie Morris Campbellin                         \n",
      "Jouni Heiskanen                                    Näin Auston Matthews                              \n",
      "Rami Paavola                                       Sara Vannisen                                     \n",
      "Metallican James Hetfield                          Suomea Euroviisuissa                              \n",
      "Juontaja Marianne Harjulalle                       Elektroniikkavalmistaja Bosch                     \n"
     ]
    }
   ],
   "source": [
    "# Regular expression pattern for matching capitalized words\n",
    "# Initially let's match all capitalized word sequences \n",
    "pattern = r'([A-ZÄÖ][a-zäö]+(?=\\s[A-ZÄÖ])(?:\\s[A-ZÄÖ][a-zäö]+)+)'\n",
    "\n",
    "matches = []\n",
    "\n",
    "for article in articles:\n",
    "\n",
    "    [title, summary] = article[1:3]\n",
    "    \n",
    "    # find capitalized words in article title\n",
    "    title_words = re.findall(pattern, title)\n",
    "  \n",
    "    # find capitalized words in article summary\n",
    "    summary_words = re.findall(pattern, summary)\n",
    "    \n",
    "    # combine all matches\n",
    "    proper_nouns = title_words + summary_words\n",
    "    \n",
    "    if len(proper_nouns) > 0:\n",
    "        matches += proper_nouns\n",
    "\n",
    "\n",
    "# show stats about findings        \n",
    "print('Found', len(matches), 'capitalized word seaquences.')\n",
    "print('Found', len(list(set(matches))), 'unique capitalized word seaquences.', '\\n')\n",
    "\n",
    "# display some matches on the screen to observe the results\n",
    "words_to_show, cols = 80, 2\n",
    "preview = list(set(matches))[0:words_to_show]\n",
    "\n",
    "for i in range(0, int(words_to_show / cols)):\n",
    "    upper, lower = i * cols, (i + 1) * cols\n",
    "    row_words = [str(p).ljust(50,' ') for p in preview[upper:lower]]\n",
    "    print(' '.join(row_words))"
   ]
  },
  {
   "cell_type": "markdown",
   "metadata": {},
   "source": [
    "These results show this approach does identify proper nouns but this approach has some limitations:\n",
    "\n",
    "- the discovered words include extra words: `Juontaja`\n",
    "- we cannot automatically assume a fixed length word sequence\n",
    "- the different word forms prevent use from grouping matches properly: `Satu Rusanen` vs. `Satu Rusasen`"
   ]
  },
  {
   "cell_type": "code",
   "execution_count": null,
   "metadata": {},
   "outputs": [],
   "source": []
  }
 ],
 "metadata": {
  "kernelspec": {
   "display_name": "Python 3",
   "language": "python",
   "name": "python3"
  },
  "language_info": {
   "codemirror_mode": {
    "name": "ipython",
    "version": 3
   },
   "file_extension": ".py",
   "mimetype": "text/x-python",
   "name": "python",
   "nbconvert_exporter": "python",
   "pygments_lexer": "ipython3",
   "version": "3.7.3"
  }
 },
 "nbformat": 4,
 "nbformat_minor": 4
}
