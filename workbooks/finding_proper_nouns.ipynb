{
 "cells": [
  {
   "cell_type": "markdown",
   "metadata": {},
   "source": [
    "# Finding Mentions by Name"
   ]
  },
  {
   "cell_type": "markdown",
   "metadata": {},
   "source": [
    "In this lab we will try to identify frequencies of proper nouns in the news corpus. More specifically we are looking for names.\n",
    "\n",
    "You will learn how to:\n",
    "- identify words based on capitalization\n",
    "- work with regular expressions\n",
    "- compute Levenshtein distance"
   ]
  },
  {
   "cell_type": "markdown",
   "metadata": {},
   "source": [
    "## Prerequisites\n",
    "\n",
    "This lab requires following 3rd party libraries! Run this command before starting:\n",
    "\n",
    "```\n",
    "pip install python-Levenshtein\n",
    "```"
   ]
  },
  {
   "cell_type": "code",
   "execution_count": 1,
   "metadata": {},
   "outputs": [],
   "source": [
    "# import dependencies \n",
    "import re\n",
    "from corpus_utilities import load_articles\n",
    "from Levenshtein import distance as levenshtein_distance"
   ]
  },
  {
   "cell_type": "markdown",
   "metadata": {},
   "source": [
    "## 1. Read article data from corpus"
   ]
  },
  {
   "cell_type": "code",
   "execution_count": 2,
   "metadata": {},
   "outputs": [
    {
     "name": "stdout",
     "output_type": "stream",
     "text": [
      "Sanity check! Got 67259 articles.\n"
     ]
    }
   ],
   "source": [
    "# path to corpus directory\n",
    "# change this value as necessary\n",
    "directory_path = '../corpus'\n",
    "\n",
    "# use utility script to load articles\n",
    "articles = load_articles(directory_path)\n",
    "\n",
    "print('Sanity check! Got', len(articles), 'articles.')  "
   ]
  },
  {
   "cell_type": "markdown",
   "metadata": {},
   "source": [
    "## 2. Naive search approach using Regular Expression"
   ]
  },
  {
   "cell_type": "markdown",
   "metadata": {},
   "source": [
    "Let's use capitalization rules as a way to identify nouns. When a word occurs in the beginning of the sentence, it is impossible to tell whether capitalization is an indication of a word being a proper noun, or just the first word of a sentence, so we will accept those words as well. Therefore this is a very naive approach to finding proper nouns, but it will get us started. "
   ]
  },
  {
   "cell_type": "code",
   "execution_count": 3,
   "metadata": {},
   "outputs": [
    {
     "name": "stdout",
     "output_type": "stream",
     "text": [
      "Found 73575 capitalized word seaquences.\n",
      "Found 31362 unique capitalized word seaquences. \n",
      "\n",
      "2     Niko Vesterinen                               1     Bella Hadidin                                \n",
      "3     Chicago Blackhawksia                          1     Sekä Yhdysvaltain                            \n",
      "1     Overia St                                     1     Krista Tervon                                \n",
      "4     Maria Sid                                     1     Brooklyn Nets                                \n",
      "2     Lauri Markkasen Bulls                         1     Graeme Hall                                  \n",
      "1     Pirjo Mannermaa                               2     Niki Mäenpään                                \n",
      "1     Savonlinnalainen Heli                         1     Lähtikö Sara Siepin                          \n",
      "1     Washington Capiltalsin                        1     Näyttelijä Timo Lavikainen                   \n",
      "1     Carline Flack                                 4     Viihdetaiteilija Vesa                        \n",
      "5     Kruununprinsessa Victorian                    2     Seurapiirikaunotar Paris Hilton              \n",
      "2     Laulaja Waltteri Torikka                      1     Boeing Maxin                                 \n",
      "1     Sairaanhoitaja Kristiina                      1     Yhdysvaltalaisnäyttelijä George Clooney      \n",
      "1     Pekka Vähäsöyringin                           1     Naisleijonien Linda Välimäki                 \n",
      "1     Katja Alhajärvi                               2     Pelicansin Lahdessa                          \n",
      "1     Ennätysnuori Englanti                         2     Metallican James Hetfield                    \n",
      "2     Otto Invenius                                 1     Sergei Fedorovin                             \n",
      "1     John Arne Riisen                              1     Ilmaisen Clark                               \n",
      "2     Testissä Logitechin                           1     Heidi Lindholm                               \n",
      "1     Turkan Volvo Amazonin                         7     Beach Suomi                                  \n",
      "1     Timo Stavitski                                1     Toimitusjohtaja Topi Manner                  \n",
      "2     Eeli Tolvasta                                 1     Heidi Zak                                    \n",
      "1     Caravan Turku                                 1     Matkabloggaaja Kelly Castille                \n",
      "1     Sotaveteraani Anna                            1     Näyttelijä Charlize Theronin                 \n",
      "1     Käheä Kaisa Mäkäräinen                        4     Sasha Cohen                                  \n",
      "1     Minttu Lavikka                                1     Facebookin Pohjoismaiden                     \n",
      "1     Mäkihypyn Lionel Messi                        1     Puheenjohtaja Li Anderssonin                 \n",
      "1     Sophie Turnerin Waldo                         5     Miro Karjalainen                             \n",
      "1     Kaksivuotias Simba                            1     Kansanedustaja Wille Rydman                  \n",
      "1     Nelikymppisellä Markolla                      1     Voiko Iraniin                                \n",
      "2     Bruno Ganz                                    1     Ada Virtasen                                 \n",
      "3     Olli Palola                                   1     Iikka Kangasniemestä                         \n",
      "1     Elokuvaohjaaja Tuija                          1     Lola Odusogaa                                \n",
      "1     Leena Harkimolle                              1     Juontajakaunotar Shirly Karvinen             \n",
      "1     Jättiseura Arsenal                            2     Eino Makunen                                 \n",
      "1     Brittiläisen Radio                            7     El Chapo                                     \n",
      "1     Dmitri Peskovin                               11    Henri Jokiharju                              \n",
      "1     Toimittaja Tim Shipmanin                      1     Ellie Smartin                                \n",
      "2     Thierry Neuvilleen                            1     China National Youth Games                   \n",
      "1     Seppo Pääkkönen                               63    Presidentti Niinistö                         \n",
      "1     Emilia Kuisma                                 1     Stella Maxwell                               \n"
     ]
    }
   ],
   "source": [
    "# Regular expression pattern for matching capitalized words\n",
    "# Initially let's match all capitalized word sequences \n",
    "pattern = r'([A-ZÄÖ][a-zäö]+(?=\\s[A-ZÄÖ])(?:\\s[A-ZÄÖ][a-zäö]+)+)'\n",
    "\n",
    "matches = []\n",
    "\n",
    "for article in articles:\n",
    "\n",
    "    [title, summary] = article[1:3]\n",
    "    \n",
    "    # find capitalized words in article title\n",
    "    title_words = re.findall(pattern, title)\n",
    "  \n",
    "    # find capitalized words in article summary\n",
    "    summary_words = re.findall(pattern, summary)\n",
    "    \n",
    "    # combine all matches\n",
    "    proper_nouns = title_words + summary_words\n",
    "    \n",
    "    if len(proper_nouns) > 0:\n",
    "        matches += proper_nouns\n",
    "\n",
    "\n",
    "# show stats about findings        \n",
    "print('Found', len(matches), 'capitalized word seaquences.')\n",
    "print('Found', len(list(set(matches))), 'unique capitalized word seaquences.', '\\n')\n",
    "\n",
    "# display some matches on the screen to observe the results\n",
    "words_to_show, cols = 80, 2\n",
    "preview = list(set(matches))[0:words_to_show]\n",
    "display = lambda x, y: str(matches.count(x)).ljust(5, ' ') + ' ' + x.ljust(y,' ')\n",
    "\n",
    "for i in range(0, int(words_to_show / cols)):\n",
    "    upper, lower = i * cols, (i + 1) * cols\n",
    "    row_words = [display(p, 45) for p in preview[upper:lower]]\n",
    "    print(' '.join(row_words))"
   ]
  },
  {
   "cell_type": "markdown",
   "metadata": {},
   "source": [
    "These results show this approach does identify proper nouns but this approach has specific issues:\n",
    "\n",
    "- the discovered words include extra words: `Juontaja`\n",
    "- we cannot automatically assume a fixed length word sequence: `Valerie Morris Campbell` vs. `Frederik`\n",
    "- the different word forms prevent use from grouping matches properly: `Petteri Orpolta` vs. `Petteri Orpo`"
   ]
  },
  {
   "cell_type": "markdown",
   "metadata": {},
   "source": [
    "## 3. Try frequency based sorting"
   ]
  },
  {
   "cell_type": "markdown",
   "metadata": {},
   "source": [
    "Observing the results above, we can see that actual names of people seem to have higher frequency than random word pairs. Based on this observation, lets sort the previously discovered proper noun words by frequency and see what happens. **Caution: This operation may take a while to finish.**"
   ]
  },
  {
   "cell_type": "code",
   "execution_count": 5,
   "metadata": {},
   "outputs": [
    {
     "name": "stdout",
     "output_type": "stream",
     "text": [
      "537   Kimi Räikkönen                 406   Valtteri Bottas                388   Sensuroimaton Päivärinta      \n",
      "344   Kimi Räikkösen                 259   Patrik Laine                   210   Teemu Pukki                   \n",
      "206   Valtteri Bottaksen             201   Kaisa Mäkäräinen               196   Matti Nykäsen                 \n",
      "195   Antti Rinteen                  188   Iivo Niskanen                  183   Lewis Hamilton                \n",
      "181   Antti Rinne                    180   Kaapo Kakko                    166   Matti Latvala                 \n",
      "162   Patrik Laineen                 159   Krista Pärmäkoski              151   Donald Trump                  \n",
      "151   Big Brother                    137   Teemu Pukin                    136   Therese Johaug                \n",
      "132   Jussi Halla                    128   Prinssi Harry                  124   New Yorkissa                  \n",
      "123   Herttuatar Meghan              119   Olli Lindholmin                117   Sauli Niinistö                \n",
      "116   Sofia Bel                      116   Iivo Niskasen                  112   Mikko Rantanen                \n",
      "110   Lauri Markkanen                110   Jukka Jalonen                  109   Winnipeg Jetsin               \n",
      "108   Donald Trumpin                 107   Kaapo Kakon                    106   Kaisa Mäkäräisen              \n",
      "105   Selviytyjät Suomi              105   Sebastian Vettel               101   Manchester United             \n",
      "100   Ville Rannan                   100   Saara Aalto                    100   Kalle Rovanperä               \n",
      "98    Miss Suomi                     98    Janni Hussi                    96    Toni Roponen                  \n",
      "94    Sara Sieppi                    91    Matti Nykänen                  90    Kuningatar Elisabet           \n",
      "89    Nuorten Leijonien              89    Herttuatar Meghanin            87    Winnipeg Jets                 \n",
      "87    Aleksander Barkov              85    Maisa Torppa                   82    Lewis Hamiltonin              \n",
      "81    Real Madrid                    81    Manchester City                78    Sebastian Aho                 \n",
      "77    Jesse Puljujärvi               75    Martina Aitolehti              74    Sanna Marin                   \n",
      "74    Ristomatti Hakola              72    Kim Kardashian                 72    Alfa Romeon                   \n",
      "71    Petteri Orpo                   67    Tommi Mäkinen                  67    Helsingin Sanomien            \n",
      "67    Charles Leclerc                65    Juha Sipilä                    65    Herttuatar Catherine          \n",
      "64    Tommi Mäkisen                  64    Jenni Haukio                   64    Alfa Romeo                    \n",
      "63    Presidentti Niinistö           63    New Yorkin                     63    Jesse Puljujärven             \n",
      "63    Chicago Bulls                  62    Esapekka Lappi                 62    Annimari Korte                \n",
      "61    Krista Pärmäkosken             61    Eva Wahlström                  60    Nuoret Leijonat               \n",
      "59    Lola Odusoga                   59    Jyrki Järvilehto               59    Antti Tuisku                  \n",
      "58    Ott Tänak                      58    Minttu Räikkönen               58    Max Verstappen                \n",
      "58    Jukka Hild                     58    Janita Lukkarinen              57    Therese Johaugin              \n",
      "57    Sanna Marinin                  57    Helsingin Sanomat              56    The Voice                     \n",
      "56    Temptation Island Suomi        56    Sebastian Vettelin             56    Boris Johnson                 \n",
      "55    Me Naiset                      55    Matti Latvalan                 55    Manchester Unitedin           \n",
      "\n",
      "Words with 2 or more occurrences: 7692\n"
     ]
    }
   ],
   "source": [
    "words_to_show, cols = 100, 3\n",
    "sorted_matches = sorted([(matches.count(w), w) for w in list(set(matches))], reverse=True)\n",
    "\n",
    "for i in range(0, int(words_to_show / cols)):\n",
    "    upper, lower = i * cols, (i + 1) * cols\n",
    "    row_words = [display(p[1], 30) for p in sorted_matches[upper:lower]]\n",
    "    print(' '.join(row_words))\n",
    "    \n",
    "print('\\nWords with 2 or more occurrences:', len([p for p in sorted_matches if p[0] > 1]))    "
   ]
  },
  {
   "cell_type": "markdown",
   "metadata": {},
   "source": [
    "This result is already much better. We have narrowed down from > 70K capitalized words to < 8K most frequent expressions. \n",
    "\n",
    "But there are still some issues we should address. The following conjugations are expressions referring to the same person.\n",
    "\n",
    "- `Kimi Räikkönen` and `Kimi Räikkösen`\n",
    "- `Valtteri Bottas` and `Valtteri Bottaksen`\n",
    "- `Matti Nykänen` and `Matti Nykäsen`\n",
    "- `Antti Rinteen` and `Antti Rinne`\n",
    "\n",
    "The frequency count would be more accurate, if we were able identify relationship between these words."
   ]
  },
  {
   "cell_type": "markdown",
   "metadata": {},
   "source": [
    "## 4. Grouping similar words"
   ]
  },
  {
   "cell_type": "markdown",
   "metadata": {},
   "source": [
    "[Levenshtein distance](https://en.wikipedia.org/wiki/Levenshtein_distance) is used for calculating the distance between words. Let's try to improve our result by grouping words based on this calculated word distance. "
   ]
  },
  {
   "cell_type": "code",
   "execution_count": 17,
   "metadata": {},
   "outputs": [
    {
     "name": "stdout",
     "output_type": "stream",
     "text": [
      "1 ['Kimi Räikkönen', 'Kimi Räikkösen']\n",
      "2 ['Valtteri Bottas', 'Valtteri Bottasta']\n",
      "4 ['Sensuroimaton Päivärinta', 'Sensuroimaton Päivärinnassa']\n",
      "1 ['Kimi Räikkösen', 'Kimi Räikkönen', 'Kimi Räikköseen', 'Kimin Räikkösen']\n",
      "2 ['Patrik Laine', 'Patrik Laineen']\n",
      "1 ['Teemu Pukki', 'Teemu Pukkia']\n",
      "1 ['Valtteri Bottaksen', 'Valtteri Bottakseen', 'Valtterin Bottaksen']\n",
      "1 ['Kaisa Mäkäräinen', 'Kaisa Mäkäräisen']\n",
      "1 ['Matti Nykäsen', 'Matti Nykänen', 'Matti Nykäseen']\n",
      "2 ['Antti Rinteen', 'Antti Rintanen']\n",
      "1 ['Iivo Niskanen', 'Iivo Niskasen', 'Ivo Niskanen', 'Iio Niskanen']\n",
      "2 ['Lewis Hamilton', 'Lewis Hamiltonin', 'Lewis Hamiltonia']\n",
      "3 ['Antti Rinne', 'Antti Rinteen', 'Antti Rinnettä', 'Antti Reinin', 'Antti Reini', 'Antti Rönkä', 'Antti Rintanen', 'Antti Rinnekin']\n",
      "1 ['Kaapo Kakko', 'Kaapo Kakkoa']\n",
      "1 ['Matti Latvala', 'Matti Latvalan', 'Matti Latvalaa']\n",
      "2 ['Patrik Laineen', 'Patrik Laine', 'Patrik Lainekin']\n",
      "2 ['Krista Pärmäkoski', 'Krista Pärmäkosken', 'Krista Pärmäkoskea']\n",
      "2 ['Donald Trump', 'Donald Trumpin', 'Donald Trumpia']\n",
      "2 ['Big Brother', 'Big Brotherin', 'Big Brotheria']\n",
      "2 ['Teemu Pukin', 'Teemu Pukki', 'Teemu Pukkia']\n",
      "2 ['Therese Johaug', 'Therese Johaugin', 'Therese Johaugia']\n",
      "3 ['Jussi Halla', 'Jussi Tapola']\n",
      "1 ['Prinssi Harry', 'Prinssi Harryn', 'Prinssi Harrya', 'Prinssit Harry']\n",
      "1 ['New Yorkissa', 'New Yorkista', 'New Yorkissä']\n",
      "2 ['Herttuatar Meghan', 'Herttuatar Meghanin', 'Herttuatar Meghania']\n",
      "1 ['Olli Lindholmin', 'Olli Lindholmia', 'Olli Lindholmiin']\n",
      "1 ['Sauli Niinistö', 'Sauli Niinistön', 'Sauli Niinistöä']\n",
      "3 ['Sofia Bel', 'Sofia Sir', 'Sofia Helin']\n",
      "1 ['Iivo Niskasen', 'Iivo Niskanen']\n",
      "1 ['Mikko Rantanen', 'Mikko Rantasen']\n",
      "1 ['Lauri Markkanen', 'Lauri Markkasen']\n",
      "1 ['Jukka Jalonen', 'Jukka Jalosen']\n",
      "1 ['Winnipeg Jetsin', 'Winnipeg Jetsiä', 'Winnipeg Jetsia', 'Winnipeg Jetsiin']\n",
      "1 ['Donald Trumpin', 'Donald Trumpia', 'Donald Trumpiin', 'Donald Trumpkin']\n",
      "1 ['Kaapo Kakon', 'Kaako Kakon']\n",
      "1 ['Kaisa Mäkäräisen', 'Kaisa Mäkäräinen', 'Kaisa Mäkäräiseen']\n",
      "2 ['Selviytyjät Suomi', 'Selviytyjät Suomen']\n",
      "2 ['Sebastian Vettel', 'Sebastian Vettelin', 'Sebastian Vetteliä']\n",
      "1 ['Manchester United', 'Manchster United']\n",
      "2 ['Ville Rannan', 'Ville Ranta']\n",
      "1 ['Saara Aalto', 'Saara Aaltoa']\n",
      "1 ['Kalle Rovanperä', 'Kalle Rovanperän', 'Kalle Rovanperää', 'Kalle Rovaperä']\n",
      "1 ['Miss Suomi', 'Missä Suomi']\n",
      "1 ['Janni Hussi', 'Janni Hussin', 'Janni Hussia']\n",
      "1 ['Toni Roponen', 'Toni Roposen']\n",
      "1 ['Sara Sieppi', 'Sara Sieppiä']\n",
      "1 ['Matti Nykänen', 'Matti Nykäsen']\n",
      "1 ['Kuningatar Elisabet', 'Kuningatar Elisabeth']\n",
      "1 ['Nuorten Leijonien', 'Nuorien Leijonien']\n",
      "1 ['Herttuatar Meghanin', 'Herttuatar Meghania', 'Herttuatar Meghaniin']\n"
     ]
    }
   ],
   "source": [
    "for (n, w1) in sorted_matches[0:50]:\n",
    "    \n",
    "    closest_matches = [w1]\n",
    "    min_distance = len(w1)\n",
    "        \n",
    "    for (m, w2) in sorted_matches:\n",
    "        dist = levenshtein_distance(w1, w2)\n",
    "        if dist == 0:\n",
    "            continue\n",
    "        if dist == min_distance:\n",
    "            closest_matches.append(w2)\n",
    "        if dist < min_distance:\n",
    "            min_distance = dist\n",
    "            closest_matches = [w1,w2]\n",
    "        \n",
    "    print(min_distance, \n",
    "          # \"{:.1f}\".format(min_distance/len(w1)),\n",
    "          # \"{:.1f}\".format(len(w1)/min_distance),\n",
    "          closest_matches)\n"
   ]
  },
  {
   "cell_type": "code",
   "execution_count": null,
   "metadata": {},
   "outputs": [],
   "source": []
  }
 ],
 "metadata": {
  "kernelspec": {
   "display_name": "Python 3",
   "language": "python",
   "name": "python3"
  },
  "language_info": {
   "codemirror_mode": {
    "name": "ipython",
    "version": 3
   },
   "file_extension": ".py",
   "mimetype": "text/x-python",
   "name": "python",
   "nbconvert_exporter": "python",
   "pygments_lexer": "ipython3",
   "version": "3.7.3"
  }
 },
 "nbformat": 4,
 "nbformat_minor": 4
}
