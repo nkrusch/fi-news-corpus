{
 "cells": [
  {
   "cell_type": "markdown",
   "metadata": {},
   "source": [
    "# Finding Mentions by Name"
   ]
  },
  {
   "cell_type": "markdown",
   "metadata": {},
   "source": [
    "In this lab we will try to identify frequencies of proper nouns in the news corpus. More specifically we are looking for names.\n",
    "\n",
    "You will learn how to:\n",
    "- work with corpus utility functions\n",
    "- how to do analysis based on word capitalization\n",
    "- how to work with regular expressions"
   ]
  },
  {
   "cell_type": "code",
   "execution_count": 1,
   "metadata": {},
   "outputs": [],
   "source": [
    "# import dependencies \n",
    "import re\n",
    "from corpus_utilities import load_articles"
   ]
  },
  {
   "cell_type": "markdown",
   "metadata": {},
   "source": [
    "## 1. Read article data from corpus"
   ]
  },
  {
   "cell_type": "code",
   "execution_count": 2,
   "metadata": {},
   "outputs": [
    {
     "name": "stdout",
     "output_type": "stream",
     "text": [
      "Sanity check! Got 67259 articles.\n"
     ]
    }
   ],
   "source": [
    "# path to corpus directory\n",
    "# change this value as necessary\n",
    "directory_path = '../corpus'\n",
    "\n",
    "# use utility script to load articles\n",
    "articles = load_articles(directory_path)\n",
    "\n",
    "print('Sanity check! Got', len(articles), 'articles.')  "
   ]
  },
  {
   "cell_type": "markdown",
   "metadata": {},
   "source": [
    "## 2. Naive search approach"
   ]
  },
  {
   "cell_type": "markdown",
   "metadata": {},
   "source": [
    "Let's use capitalization rules as a way to identify nouns. When a word occurs in the beginning of the sentence, it is impossible to tell whether capitalization is an indication of a word being a proper noun, or just the first word of a sentence, so we will accept those words as well. Therefore this is a very naive approach to finding proper nouns, but it will get us started. "
   ]
  },
  {
   "cell_type": "code",
   "execution_count": 3,
   "metadata": {},
   "outputs": [
    {
     "name": "stdout",
     "output_type": "stream",
     "text": [
      "Found 73575 capitalized word seaquences.\n",
      "Found 31362 unique capitalized word seaquences. \n",
      "\n",
      "1     Antti Niemellä                                1     Venäjän Sotshin                              \n",
      "1     La Ligan Sevilla                              1     Juventuksen Torinossa                        \n",
      "1     Lähihoitaja Johanna                           1     Tapahtumajärjestäjä Live Entertainment Finland\n",
      "1     Kosicesta Bratislavaan                        1     Josie Goldberg                               \n",
      "1     Jane Doe                                      6     Sky News                                     \n",
      "1     Sarin Instagram                               1     Portugalin Kansojen                          \n",
      "1     New Yorkissä                                  1     Alfa Romeon Antonio Giovinazzille            \n",
      "2     Fazerin Sinisen                               2     Ilja Bryzgalov                               \n",
      "1     Geto Boys                                     1     Suosikkibloggaaja Natalla                    \n",
      "1     Spike Leelle                                  1     Glen Kamaralla Lukas Hradeckyä               \n",
      "1     Työministeri Haatainen                        1     Tangokuningatar Saija Tuupanen               \n",
      "1     Stora Enson Oulun                             1     Vapaa Hongkong                               \n",
      "1     Steffo Törnquist                              1     Jussie Smollettia                            \n",
      "1     Ylitornion Kaulinrannassa Kattilakosken       1     Jugoslaviasta Suomeen                        \n",
      "2     Juha Vainio                                   3     Miss Bumbum                                  \n",
      "8     Reino Nordin                                  1     Torbjörn Magnussonia                         \n",
      "1     Rauni Uotila                                  1     Philadelphia Eaglesin                        \n",
      "1     Puijon Hiihtoseura                            1     Teatterineuvos Tuija Vuolle                  \n",
      "1     Jari Kurrille                                 1     Mia Sillman                                  \n",
      "1     Eivätkö Photoshop                             1     Brnosta Prahaan                              \n",
      "2     Matti Kassilan                                1     Vain Suomessa                                \n",
      "2     Juha Torvinen                                 1     Ravintolakärhämässä Espanjassa               \n",
      "1     Cole La                                       1     Makkaratehtailija Veijo Votkin               \n",
      "1     Pornotähti Stormy Danielsin                   1     Keskustapomo Antti Kurvinen                  \n",
      "1     Manuel Pellegrinin                            11    Sarah Ferguson                               \n",
      "1     Popedan Pitkän                                1     Veronica Verhoa Tanssii                      \n",
      "1     Gazassa Hamas                                 1     Kansanedustaja Susanna Koski                 \n",
      "1     Admiral Vladivostokin                         1     Näyttelijä Ismo Kallio                       \n",
      "1     Juha Jokisen                                  2     Netflixin Stranger Things                    \n",
      "1     Maija Tikkanen                                1     Olena Sheremet                               \n",
      "2     Teemu Isoketo                                 1     Kylie Jenneriltä                             \n",
      "1     La Graciosa                                   12    Sari Essayah                                 \n",
      "1     Japanin Muumimaailmassa                       1     Anttoni Ronkainen                            \n",
      "1     Myöhemmin Smith                               1     Jennifer Lopezille                           \n",
      "1     Lisbet Palme                                  1     Karita Tuomola                               \n",
      "1     Legendaarisen Risto Dufvan                    1     Metso Outotec                                \n",
      "1     Sveitsin Nyonissa                             1     Janne Järvinen                               \n",
      "1     Bloggaaja Desire Nymanin                      1     Jack Brooksbankin                            \n",
      "2     Rinne Isis                                    1     Kuvaaja Mauricio Liman                       \n",
      "1     Suomen Ida Hulkko                             1     Mikhail Galinin                              \n"
     ]
    }
   ],
   "source": [
    "# Regular expression pattern for matching capitalized words\n",
    "# Initially let's match all capitalized word sequences \n",
    "pattern = r'([A-ZÄÖ][a-zäö]+(?=\\s[A-ZÄÖ])(?:\\s[A-ZÄÖ][a-zäö]+)+)'\n",
    "\n",
    "matches = []\n",
    "\n",
    "for article in articles:\n",
    "\n",
    "    [title, summary] = article[1:3]\n",
    "    \n",
    "    # find capitalized words in article title\n",
    "    title_words = re.findall(pattern, title)\n",
    "  \n",
    "    # find capitalized words in article summary\n",
    "    summary_words = re.findall(pattern, summary)\n",
    "    \n",
    "    # combine all matches\n",
    "    proper_nouns = title_words + summary_words\n",
    "    \n",
    "    if len(proper_nouns) > 0:\n",
    "        matches += proper_nouns\n",
    "\n",
    "\n",
    "# show stats about findings        \n",
    "print('Found', len(matches), 'capitalized word seaquences.')\n",
    "print('Found', len(list(set(matches))), 'unique capitalized word seaquences.', '\\n')\n",
    "\n",
    "# display some matches on the screen to observe the results\n",
    "words_to_show, cols = 80, 2\n",
    "preview = list(set(matches))[0:words_to_show]\n",
    "display = lambda x, y: str(matches.count(x)).ljust(5, ' ') + ' ' + x.ljust(y,' ')\n",
    "\n",
    "for i in range(0, int(words_to_show / cols)):\n",
    "    upper, lower = i * cols, (i + 1) * cols\n",
    "    row_words = [display(p, 45) for p in preview[upper:lower]]\n",
    "    print(' '.join(row_words))"
   ]
  },
  {
   "cell_type": "markdown",
   "metadata": {},
   "source": [
    "These results show this approach does identify proper nouns but this approach has specific issues:\n",
    "\n",
    "- the discovered words include extra words: `Juontaja`\n",
    "- we cannot automatically assume a fixed length word sequence: `Valerie Morris Campbell` vs. `Frederik`\n",
    "- the different word forms prevent use from grouping matches properly: `Petteri Orpolta` vs. `Petteri Orpo`"
   ]
  },
  {
   "cell_type": "markdown",
   "metadata": {},
   "source": [
    "## 3. Try frequency based sorting"
   ]
  },
  {
   "cell_type": "markdown",
   "metadata": {},
   "source": [
    "Observing the results above, we can see that actual names of people seem to have higher frequency than random word pairs. Based on this observation, lets sort the previously discovered proper noun words by frequency and see what happens. **Caution: This operation may take a while to finish.**"
   ]
  },
  {
   "cell_type": "code",
   "execution_count": 7,
   "metadata": {},
   "outputs": [
    {
     "name": "stdout",
     "output_type": "stream",
     "text": [
      "537   Kimi Räikkönen                 406   Valtteri Bottas                388   Sensuroimaton Päivärinta      \n",
      "344   Kimi Räikkösen                 259   Patrik Laine                   210   Teemu Pukki                   \n",
      "206   Valtteri Bottaksen             201   Kaisa Mäkäräinen               196   Matti Nykäsen                 \n",
      "195   Antti Rinteen                  188   Iivo Niskanen                  183   Lewis Hamilton                \n",
      "181   Antti Rinne                    180   Kaapo Kakko                    166   Matti Latvala                 \n",
      "162   Patrik Laineen                 159   Krista Pärmäkoski              151   Donald Trump                  \n",
      "151   Big Brother                    137   Teemu Pukin                    136   Therese Johaug                \n",
      "132   Jussi Halla                    128   Prinssi Harry                  124   New Yorkissa                  \n",
      "123   Herttuatar Meghan              119   Olli Lindholmin                117   Sauli Niinistö                \n",
      "116   Sofia Bel                      116   Iivo Niskasen                  112   Mikko Rantanen                \n",
      "110   Lauri Markkanen                110   Jukka Jalonen                  109   Winnipeg Jetsin               \n",
      "108   Donald Trumpin                 107   Kaapo Kakon                    106   Kaisa Mäkäräisen              \n",
      "105   Selviytyjät Suomi              105   Sebastian Vettel               101   Manchester United             \n",
      "100   Ville Rannan                   100   Saara Aalto                    100   Kalle Rovanperä               \n",
      "98    Miss Suomi                     98    Janni Hussi                    96    Toni Roponen                  \n",
      "94    Sara Sieppi                    91    Matti Nykänen                  90    Kuningatar Elisabet           \n",
      "89    Nuorten Leijonien              89    Herttuatar Meghanin            87    Winnipeg Jets                 \n",
      "87    Aleksander Barkov              85    Maisa Torppa                   82    Lewis Hamiltonin              \n",
      "81    Real Madrid                    81    Manchester City                78    Sebastian Aho                 \n",
      "77    Jesse Puljujärvi               75    Martina Aitolehti              74    Sanna Marin                   \n",
      "74    Ristomatti Hakola              72    Kim Kardashian                 72    Alfa Romeon                   \n",
      "71    Petteri Orpo                   67    Tommi Mäkinen                  67    Helsingin Sanomien            \n",
      "67    Charles Leclerc                65    Juha Sipilä                    65    Herttuatar Catherine          \n",
      "64    Tommi Mäkisen                  64    Jenni Haukio                   64    Alfa Romeo                    \n",
      "63    Presidentti Niinistö           63    New Yorkin                     63    Jesse Puljujärven             \n",
      "63    Chicago Bulls                  62    Esapekka Lappi                 62    Annimari Korte                \n",
      "61    Krista Pärmäkosken             61    Eva Wahlström                  60    Nuoret Leijonat               \n",
      "59    Lola Odusoga                   59    Jyrki Järvilehto               59    Antti Tuisku                  \n",
      "58    Ott Tänak                      58    Minttu Räikkönen               58    Max Verstappen                \n",
      "58    Jukka Hild                     58    Janita Lukkarinen              57    Therese Johaugin              \n",
      "57    Sanna Marinin                  57    Helsingin Sanomat              56    The Voice                     \n",
      "56    Temptation Island Suomi        56    Sebastian Vettelin             56    Boris Johnson                 \n",
      "55    Me Naiset                      55    Matti Latvalan                 55    Manchester Unitedin           \n",
      "\n",
      "\n",
      "Words with 2 or more occurrences 7692\n"
     ]
    }
   ],
   "source": [
    "words_to_show, cols = 100, 3\n",
    "preview = sorted([(matches.count(w), w) for w in list(set(matches))], reverse=True)\n",
    "\n",
    "for i in range(0, int(words_to_show / cols)):\n",
    "    upper, lower = i * cols, (i + 1) * cols\n",
    "    row_words = [display(p[1], 30) for p in preview[upper:lower]]\n",
    "    print(' '.join(row_words))\n",
    "    \n",
    "print('\\nWords with 2 or more occurrences:', len([p for p in preview if p[0] > 1]))    "
   ]
  },
  {
   "cell_type": "markdown",
   "metadata": {},
   "source": [
    "This result is already much better. We have narrowed down from > 70K capitalized words to < 8K most frequent expressions. \n",
    "\n",
    "But there are still some issues we should address. All of the following refer to the same person and our solution would be better if we learned to group these correctly:\n",
    "\n",
    "- `Kimi Räikkönen` and `Kimi Räikkösen`\n",
    "- `Valtteri Bottas` and `Valtteri Bottaksen`\n",
    "- `Matti Nykänen` and `Matti Nykäsen`\n",
    "- `Antti Rinteen` and `Antti Rinne`"
   ]
  },
  {
   "cell_type": "code",
   "execution_count": null,
   "metadata": {},
   "outputs": [],
   "source": []
  }
 ],
 "metadata": {
  "kernelspec": {
   "display_name": "Python 3",
   "language": "python",
   "name": "python3"
  },
  "language_info": {
   "codemirror_mode": {
    "name": "ipython",
    "version": 3
   },
   "file_extension": ".py",
   "mimetype": "text/x-python",
   "name": "python",
   "nbconvert_exporter": "python",
   "pygments_lexer": "ipython3",
   "version": "3.7.3"
  }
 },
 "nbformat": 4,
 "nbformat_minor": 4
}
