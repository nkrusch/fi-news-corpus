{
 "cells": [
  {
   "cell_type": "markdown",
   "metadata": {},
   "source": [
    "# Basic Example"
   ]
  },
  {
   "cell_type": "markdown",
   "metadata": {},
   "source": [
    "This example shows how to:\n",
    "\n",
    "- read all article data\n",
    "- display some basic stats about the dataset\n",
    "- display individual article data\n",
    "\n",
    "\n",
    "\n",
    "**1. Start by reading in the article data**"
   ]
  },
  {
   "cell_type": "code",
   "execution_count": null,
   "metadata": {
    "trusted": true
   },
   "outputs": [],
   "source": [
    "from os import listdir\n",
    "from os.path import isfile, join\n",
    "import csv\n",
    "\n",
    "# path to corpus directory; change this value as necessary\n",
    "directory_path = '../corpus'\n",
    "\n",
    "# read all files\n",
    "all_files = [f for f in listdir(directory_path) if isfile(join(directory_path, f))]\n",
    "\n",
    "# create a list to hold data\n",
    "articles = []\n",
    "\n",
    "# iterate over each csv file\n",
    "for f in all_files:\n",
    "\n",
    "    rows = 0\n",
    "\n",
    "    # open the file for reading\n",
    "    with open(join(directory_path, f)) as csvfile:\n",
    "\n",
    "        # read file contents\n",
    "        readCSV = csv.reader(csvfile, delimiter=',')\n",
    "\n",
    "        for row in readCSV:\n",
    "\n",
    "            # skip header row\n",
    "            if rows > 0:\n",
    "                articles.append(row)\n",
    "\n",
    "            rows += 1\n"
   ]
  },
  {
   "cell_type": "markdown",
   "metadata": {},
   "source": [
    "**2. After reading all the article data, show some basic information:**"
   ]
  },
  {
   "cell_type": "code",
   "execution_count": null,
   "metadata": {},
   "outputs": [],
   "source": [
    "# print some stats\n",
    "print('num files: ' + str(len(all_files)))\n",
    "print('articles: ' + str(len(articles)))\n"
   ]
  },
  {
   "cell_type": "markdown",
   "metadata": {},
   "source": [
    "**3. Last display information about first and last article**"
   ]
  },
  {
   "cell_type": "code",
   "execution_count": null,
   "metadata": {
    "trusted": true
   },
   "outputs": [],
   "source": [
    "# sort articles by date\n",
    "# article publish date is first property - we can use default sort here\n",
    "articles.sort()\n",
    "\n",
    "# display information about the oldest article in the dataset\n",
    "print('=' * 40)\n",
    "print('Julkaistu: ' + articles[0][0])\n",
    "print('Otsikko: ' + articles[0][1])\n",
    "print('Kuvaus: ' + articles[0][2])\n",
    "print('Kuva: ' + articles[0][3])\n",
    "\n",
    "# display information about the newest article in the dataset\n",
    "print('=' * 40)\n",
    "print('Julkaistu: ' + articles[-1][0])\n",
    "print('Otsikko: ' + articles[-1][1])\n",
    "print('Kuvaus: ' + articles[-1][2])\n",
    "print('Kuva: ' + articles[-1][3])\n",
    "print('=' * 40)\n",
    "\n"
   ]
  }
 ],
 "metadata": {
  "kernelspec": {
   "name": "python3",
   "display_name": "Python 3",
   "language": "python"
  },
  "language_info": {
   "name": "python",
   "version": "3.7.6",
   "mimetype": "text/x-python",
   "codemirror_mode": {
    "name": "ipython",
    "version": 3
   },
   "pygments_lexer": "ipython3",
   "nbconvert_exporter": "python",
   "file_extension": ".py"
  }
 },
 "nbformat": 4,
 "nbformat_minor": 4
}
